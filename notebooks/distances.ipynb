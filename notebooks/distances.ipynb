{
  "nbformat": 4,
  "nbformat_minor": 0,
  "metadata": {
    "colab": {
      "provenance": [],
      "toc_visible": true
    },
    "kernelspec": {
      "name": "python3",
      "display_name": "Python 3"
    },
    "language_info": {
      "name": "python"
    }
  },
  "cells": [
    {
      "cell_type": "markdown",
      "source": [
        "# 🍇 GraphX - Distance Challenge\n",
        "\n",
        "All the details about the challenge is in the [repository](https://github.com/avcaliani/graphx-app).\n",
        "\n",
        "<img src=\"https://raw.githubusercontent.com/avcaliani/graphx-app/main/.docs/basic-graph.png\" height=\"400px\">"
      ],
      "metadata": {
        "id": "T3vGblU8rOML"
      }
    },
    {
      "cell_type": "markdown",
      "source": [
        "## PySpark\n",
        "\n",
        "Before starting, let's configure the PySpark."
      ],
      "metadata": {
        "id": "nxNyRoYjrUsg"
      }
    },
    {
      "cell_type": "code",
      "source": [
        "!pip install pyspark==3.5.0"
      ],
      "metadata": {
        "id": "JCHliyRTrXy_",
        "colab": {
          "base_uri": "https://localhost:8080/"
        },
        "outputId": "addfa2a1-c4b3-4173-dc72-8ba51c17c59e"
      },
      "execution_count": 7,
      "outputs": [
        {
          "output_type": "stream",
          "name": "stdout",
          "text": [
            "Requirement already satisfied: pyspark==3.5.0 in /usr/local/lib/python3.10/dist-packages (3.5.0)\n",
            "Requirement already satisfied: py4j==0.10.9.7 in /usr/local/lib/python3.10/dist-packages (from pyspark==3.5.0) (0.10.9.7)\n"
          ]
        }
      ]
    },
    {
      "cell_type": "code",
      "source": [
        "from pyspark.sql import SparkSession\n",
        "\n",
        "spark = SparkSession.builder \\\n",
        "    .master('local[*]') \\\n",
        "    .appName('graphx-app') \\\n",
        "    .config('spark.jars.packages', \"graphframes:graphframes:0.8.3-spark3.5-s_2.12\") \\\n",
        "    .getOrCreate()\n",
        "\n",
        "# 👇 Required to run Pregel\n",
        "spark.sparkContext.setCheckpointDir(\"/tmp/checkpoints\")"
      ],
      "metadata": {
        "id": "IJ5Plg_oraIB"
      },
      "execution_count": 8,
      "outputs": []
    },
    {
      "cell_type": "code",
      "source": [
        "from graphframes import GraphFrame"
      ],
      "metadata": {
        "id": "Af429keqsQPG"
      },
      "execution_count": 9,
      "outputs": []
    },
    {
      "cell_type": "code",
      "source": [
        "vertices_data = [\n",
        "    (1, 1.0),\n",
        "    (2, 1.5),\n",
        "    (3, 2.0),\n",
        "    (4, 1.0),\n",
        "]\n",
        "# GraphFrame demands a column called \"id\"\n",
        "# https://graphframes.github.io/graphframes/docs/_site/api/python/graphframes.html#graphframes.GraphFrame\n",
        "vertices = spark.createDataFrame(data = vertices_data, schema = [\"id\", \"multiplier\"])\n",
        "\n",
        "edges_data = [\n",
        "    (1, 2, 5.0),\n",
        "    (1, 3, 7.0),\n",
        "    (2, 4, 12.0),\n",
        "    (3, 4, 8.0),\n",
        "]\n",
        "edges = spark.createDataFrame(data = edges_data, schema = [\"src\", \"dst\", \"distance\"])\n",
        "\n",
        "graph = GraphFrame(vertices, edges)"
      ],
      "metadata": {
        "id": "9pkybH0MQwi2"
      },
      "execution_count": 10,
      "outputs": []
    },
    {
      "cell_type": "code",
      "source": [
        "graph.vertices.show()"
      ],
      "metadata": {
        "id": "q-fyTi7vSgqT",
        "colab": {
          "base_uri": "https://localhost:8080/"
        },
        "outputId": "07c117cb-f053-4be9-9c2b-18b5f1536abd"
      },
      "execution_count": 11,
      "outputs": [
        {
          "output_type": "stream",
          "name": "stdout",
          "text": [
            "+---+----------+\n",
            "| id|multiplier|\n",
            "+---+----------+\n",
            "|  1|       1.0|\n",
            "|  2|       1.5|\n",
            "|  3|       2.0|\n",
            "|  4|       1.0|\n",
            "+---+----------+\n",
            "\n"
          ]
        }
      ]
    },
    {
      "cell_type": "code",
      "source": [
        "graph.edges.show()"
      ],
      "metadata": {
        "id": "VoWuokqqSowR",
        "colab": {
          "base_uri": "https://localhost:8080/"
        },
        "outputId": "16d714eb-147f-4119-fb16-3cdb738dfa57"
      },
      "execution_count": 12,
      "outputs": [
        {
          "output_type": "stream",
          "name": "stdout",
          "text": [
            "+---+---+--------+\n",
            "|src|dst|distance|\n",
            "+---+---+--------+\n",
            "|  1|  2|     5.0|\n",
            "|  1|  3|     7.0|\n",
            "|  2|  4|    12.0|\n",
            "|  3|  4|     8.0|\n",
            "+---+---+--------+\n",
            "\n"
          ]
        }
      ]
    },
    {
      "cell_type": "code",
      "source": [],
      "metadata": {
        "id": "v7z1M9QMP_90"
      },
      "execution_count": 12,
      "outputs": []
    }
  ]
}