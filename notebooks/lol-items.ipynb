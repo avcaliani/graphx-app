{
  "nbformat": 4,
  "nbformat_minor": 0,
  "metadata": {
    "colab": {
      "provenance": [],
      "toc_visible": true
    },
    "kernelspec": {
      "name": "python3",
      "display_name": "Python 3"
    },
    "language_info": {
      "name": "python"
    }
  },
  "cells": [
    {
      "cell_type": "markdown",
      "source": [
        "# 🍇 GraphX - LoL Items\n",
        "\n",
        "All the details about the challenge is in the [repository](https://github.com/avcaliani/graphx-app).\n",
        "\n",
        "<img src=\"https://raw.githubusercontent.com/avcaliani/graphx-app/main/.docs/lol-graph.png\" height=\"512px\">"
      ],
      "metadata": {
        "id": "T3vGblU8rOML"
      }
    },
    {
      "cell_type": "markdown",
      "source": [
        "## PySpark\n",
        "\n",
        "Before starting, let's configure the PySpark."
      ],
      "metadata": {
        "id": "nxNyRoYjrUsg"
      }
    },
    {
      "cell_type": "code",
      "source": [
        "!pip install pyspark==3.5.0"
      ],
      "metadata": {
        "id": "JCHliyRTrXy_",
        "colab": {
          "base_uri": "https://localhost:8080/"
        },
        "outputId": "d75615dd-5456-45fe-959a-045ae22a2a5c"
      },
      "execution_count": 1,
      "outputs": [
        {
          "output_type": "stream",
          "name": "stdout",
          "text": [
            "Requirement already satisfied: pyspark==3.5.0 in /usr/local/lib/python3.10/dist-packages (3.5.0)\n",
            "Requirement already satisfied: py4j==0.10.9.7 in /usr/local/lib/python3.10/dist-packages (from pyspark==3.5.0) (0.10.9.7)\n"
          ]
        }
      ]
    },
    {
      "cell_type": "code",
      "source": [
        "from pyspark.sql import SparkSession\n",
        "\n",
        "spark = SparkSession.builder \\\n",
        "    .master('local[*]') \\\n",
        "    .appName('graphx-app') \\\n",
        "    .config('spark.jars.packages', \"graphframes:graphframes:0.8.3-spark3.5-s_2.12\") \\\n",
        "    .getOrCreate()\n",
        "\n",
        "# 👇 Required to run Pregel\n",
        "spark.sparkContext.setCheckpointDir(\"/tmp/checkpoints\")"
      ],
      "metadata": {
        "id": "IJ5Plg_oraIB"
      },
      "execution_count": 2,
      "outputs": []
    },
    {
      "cell_type": "code",
      "source": [
        "from graphframes import GraphFrame"
      ],
      "metadata": {
        "id": "Af429keqsQPG"
      },
      "execution_count": 3,
      "outputs": []
    },
    {
      "cell_type": "code",
      "source": [
        "items_data = [\n",
        "    (\"Ruby Crystal\", \"Basic\", 400),\n",
        "    (\"Bami's Cinder\", \"Epic\", 200),\n",
        "    (\"Cloth Armor\", \"Basic\", 300),\n",
        "    (\"Chain Vest\", \"Epic\", 500),\n",
        "    (\"Sunfire Aegis\", \"Legendary\", 900),\n",
        "]\n",
        "# GraphFrame demands a column called \"id\", so in the diagram the \"id\" is the \"name\"\n",
        "# https://graphframes.github.io/graphframes/docs/_site/api/python/graphframes.html#graphframes.GraphFrame\n",
        "items = spark.createDataFrame(data = items_data, schema = [\"id\", \"rarity\", \"cost\"])\n",
        "\n",
        "items_relation_data = [\n",
        "    (\"Ruby Crystal\", \"Bami's Cinder\", 2),\n",
        "    (\"Cloth Armor\", \"Chain Vest\", 1),\n",
        "    (\"Bami's Cinder\", \"Sunfire Aegis\", 1),\n",
        "    (\"Chain Vest\", \"Sunfire Aegis\", 1),\n",
        "]\n",
        "items_relation = spark.createDataFrame(data = items_relation_data, schema = [\"src\", \"dst\", \"amount\"])\n",
        "\n",
        "graph = GraphFrame(v=items, e=items_relation)"
      ],
      "metadata": {
        "id": "eS_mt9L-r3C8"
      },
      "execution_count": 4,
      "outputs": []
    },
    {
      "cell_type": "code",
      "source": [
        "graph.vertices.show()"
      ],
      "metadata": {
        "id": "0hUR_5NexsMJ",
        "colab": {
          "base_uri": "https://localhost:8080/"
        },
        "outputId": "5dddda4e-df73-429e-8bd0-172c7a273b74"
      },
      "execution_count": 5,
      "outputs": [
        {
          "output_type": "stream",
          "name": "stdout",
          "text": [
            "+-------------+---------+----+\n",
            "|           id|   rarity|cost|\n",
            "+-------------+---------+----+\n",
            "| Ruby Crystal|    Basic| 400|\n",
            "|Bami's Cinder|     Epic| 200|\n",
            "|  Cloth Armor|    Basic| 300|\n",
            "|   Chain Vest|     Epic| 500|\n",
            "|Sunfire Aegis|Legendary| 900|\n",
            "+-------------+---------+----+\n",
            "\n"
          ]
        }
      ]
    },
    {
      "cell_type": "code",
      "source": [
        "graph.edges.show()"
      ],
      "metadata": {
        "id": "4bj8Uk3ax7m-",
        "colab": {
          "base_uri": "https://localhost:8080/"
        },
        "outputId": "b2485df6-f73e-4184-f9c1-1c46a8e8f096"
      },
      "execution_count": 6,
      "outputs": [
        {
          "output_type": "stream",
          "name": "stdout",
          "text": [
            "+-------------+-------------+------+\n",
            "|          src|          dst|amount|\n",
            "+-------------+-------------+------+\n",
            "| Ruby Crystal|Bami's Cinder|     2|\n",
            "|  Cloth Armor|   Chain Vest|     1|\n",
            "|Bami's Cinder|Sunfire Aegis|     1|\n",
            "|   Chain Vest|Sunfire Aegis|     1|\n",
            "+-------------+-------------+------+\n",
            "\n"
          ]
        }
      ]
    },
    {
      "cell_type": "code",
      "source": [
        "from pyspark.sql.functions import coalesce, col, lit, sum, when, array_agg\n",
        "from graphframes.lib import Pregel\n",
        "\n",
        "result = (\n",
        "    graph.pregel\n",
        "        .setMaxIter(3) # How deep in the graph the code will go, default is 10.\n",
        "        # You must start the column, even if you will only use default values.\n",
        "        # Vertex that don't receive a message will receive \"null\"\n",
        "        .withVertexColumn(\n",
        "            colName = \"previous_items_cost\",\n",
        "            initialExpr = lit(0),\n",
        "            updateAfterAggMsgsExpr = Pregel.msg()\n",
        "        )\n",
        "        .sendMsgToDst(\n",
        "            when(\n",
        "                Pregel.src(\"previous_items_cost\").isNotNull(),\n",
        "                Pregel.src(\"previous_items_cost\") + Pregel.src(\"cost\")\n",
        "            )\n",
        "            .otherwise(Pregel.src(\"cost\")) * Pregel.edge(\"amount\")\n",
        "        )\n",
        "        .aggMsgs(sum(Pregel.msg()))\n",
        "        .withVertexColumn(\n",
        "            colName = \"total_cost\",\n",
        "            initialExpr = lit(0),\n",
        "            updateAfterAggMsgsExpr = col(\"cost\") + coalesce(col(\"previous_items_cost\"), lit(0))\n",
        "        )\n",
        "        .run()\n",
        ")\n",
        "\n",
        "result.show(truncate = False)"
      ],
      "metadata": {
        "id": "KbV7OJdmx8o0",
        "colab": {
          "base_uri": "https://localhost:8080/"
        },
        "outputId": "f353d104-0f50-4d54-eef9-d411838112bd"
      },
      "execution_count": 7,
      "outputs": [
        {
          "output_type": "stream",
          "name": "stdout",
          "text": [
            "+-------------+---------+----+-------------------+----------+\n",
            "|id           |rarity   |cost|previous_items_cost|total_cost|\n",
            "+-------------+---------+----+-------------------+----------+\n",
            "|Ruby Crystal |Basic    |400 |NULL               |400       |\n",
            "|Bami's Cinder|Epic     |200 |800                |1000      |\n",
            "|Cloth Armor  |Basic    |300 |NULL               |300       |\n",
            "|Chain Vest   |Epic     |500 |300                |800       |\n",
            "|Sunfire Aegis|Legendary|900 |1800               |2700      |\n",
            "+-------------+---------+----+-------------------+----------+\n",
            "\n"
          ]
        }
      ]
    },
    {
      "cell_type": "code",
      "source": [],
      "metadata": {
        "id": "TPJTP0UHSAJq"
      },
      "execution_count": 7,
      "outputs": []
    }
  ]
}